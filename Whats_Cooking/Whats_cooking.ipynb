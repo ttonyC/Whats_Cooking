{
 "cells": [
  {
   "cell_type": "code",
   "execution_count": 54,
   "metadata": {},
   "outputs": [],
   "source": [
    "import pandas as pd\n",
    "import matplotlib.pyplot as plt\n",
    "import re\n",
    "import base64\n",
    "import pdb\n",
    "import numpy as np\n",
    "#Importing necessary libraries"
   ]
  },
  {
   "cell_type": "code",
   "execution_count": 55,
   "metadata": {},
   "outputs": [],
   "source": [
    "df_train = pd.read_json('train.json')"
   ]
  },
  {
   "cell_type": "code",
   "execution_count": 56,
   "metadata": {},
   "outputs": [
    {
     "data": {
      "text/html": [
       "<div>\n",
       "<style scoped>\n",
       "    .dataframe tbody tr th:only-of-type {\n",
       "        vertical-align: middle;\n",
       "    }\n",
       "\n",
       "    .dataframe tbody tr th {\n",
       "        vertical-align: top;\n",
       "    }\n",
       "\n",
       "    .dataframe thead th {\n",
       "        text-align: right;\n",
       "    }\n",
       "</style>\n",
       "<table border=\"1\" class=\"dataframe\">\n",
       "  <thead>\n",
       "    <tr style=\"text-align: right;\">\n",
       "      <th></th>\n",
       "      <th>cuisine</th>\n",
       "      <th>id</th>\n",
       "      <th>ingredients</th>\n",
       "    </tr>\n",
       "  </thead>\n",
       "  <tbody>\n",
       "    <tr>\n",
       "      <th>0</th>\n",
       "      <td>italian</td>\n",
       "      <td>0</td>\n",
       "      <td>[penne, shallots, rice vinegar, fresh basil, g...</td>\n",
       "    </tr>\n",
       "    <tr>\n",
       "      <th>1</th>\n",
       "      <td>greek</td>\n",
       "      <td>1</td>\n",
       "      <td>[sugar, chopped walnuts, filo dough, chopped a...</td>\n",
       "    </tr>\n",
       "    <tr>\n",
       "      <th>2</th>\n",
       "      <td>italian</td>\n",
       "      <td>2</td>\n",
       "      <td>[fresh rosemary, chopped fresh thyme, fresh or...</td>\n",
       "    </tr>\n",
       "    <tr>\n",
       "      <th>3</th>\n",
       "      <td>southern_us</td>\n",
       "      <td>3</td>\n",
       "      <td>[sugar, hot sauce, ramps, vinegar, cream chees...</td>\n",
       "    </tr>\n",
       "    <tr>\n",
       "      <th>4</th>\n",
       "      <td>french</td>\n",
       "      <td>4</td>\n",
       "      <td>[ground cinnamon, panettone, whipped cream, Am...</td>\n",
       "    </tr>\n",
       "  </tbody>\n",
       "</table>\n",
       "</div>"
      ],
      "text/plain": [
       "       cuisine  id                                        ingredients\n",
       "0      italian   0  [penne, shallots, rice vinegar, fresh basil, g...\n",
       "1        greek   1  [sugar, chopped walnuts, filo dough, chopped a...\n",
       "2      italian   2  [fresh rosemary, chopped fresh thyme, fresh or...\n",
       "3  southern_us   3  [sugar, hot sauce, ramps, vinegar, cream chees...\n",
       "4       french   4  [ground cinnamon, panettone, whipped cream, Am..."
      ]
     },
     "execution_count": 56,
     "metadata": {},
     "output_type": "execute_result"
    }
   ],
   "source": [
    "df_train.head()"
   ]
  },
  {
   "cell_type": "raw",
   "metadata": {},
   "source": [
    "%matplotlib inline"
   ]
  },
  {
   "cell_type": "code",
   "execution_count": 57,
   "metadata": {},
   "outputs": [],
   "source": [
    "plt.style.use('ggplot') #importing plotting system"
   ]
  },
  {
   "cell_type": "code",
   "execution_count": 58,
   "metadata": {},
   "outputs": [
    {
     "data": {
      "text/plain": [
       "<matplotlib.axes._subplots.AxesSubplot at 0x1e9a1dcf668>"
      ]
     },
     "execution_count": 58,
     "metadata": {},
     "output_type": "execute_result"
    },
    {
     "data": {
      "image/png": "[encoded data removed]",
      "text/plain": [
       "<Figure size 432x288 with 1 Axes>"
      ]
     },
     "metadata": {},
     "output_type": "display_data"
    }
   ],
   "source": [
    "df_train['cuisine'].value_counts().plot(kind='bar')"
   ]
  },
  {
   "cell_type": "code",
   "execution_count": 59,
   "metadata": {},
   "outputs": [],
   "source": [
    "from collections import Counter"
   ]
  },
  {
   "cell_type": "code",
   "execution_count": 60,
   "metadata": {},
   "outputs": [],
   "source": [
    "counters = {}\n",
    "for cuisine in df_train['cuisine'].unique():\n",
    "    counters[cuisine] = Counter()\n",
    "    indices = (df_train['cuisine'] == cuisine)              #Counting the amount of each ingredient\n",
    "    for ingredients in df_train[indices]['ingredients']:\n",
    "        counters[cuisine].update(ingredients)"
   ]
  },
  {
   "cell_type": "code",
   "execution_count": 61,
   "metadata": {},
   "outputs": [
    {
     "data": {
      "text/plain": [
       "[('salt', 2575),\n",
       " ('olive oil', 2306),\n",
       " ('garlic cloves', 1204),\n",
       " ('grated parmesan cheese', 1176),\n",
       " ('garlic', 1100),\n",
       " ('ground black pepper', 1052),\n",
       " ('extra-virgin olive oil', 1044),\n",
       " ('onions', 921),\n",
       " ('water', 798),\n",
       " ('butter', 772)]"
      ]
     },
     "execution_count": 61,
     "metadata": {},
     "output_type": "execute_result"
    }
   ],
   "source": [
    "counters['italian'].most_common(10)    #posting above results for Italian cuisine"
   ]
  },
  {
   "cell_type": "code",
   "execution_count": null,
   "metadata": {},
   "outputs": [],
   "source": []
  },
  {
   "cell_type": "code",
   "execution_count": 62,
   "metadata": {},
   "outputs": [
    {
     "data": {
      "text/html": [
       "<div>\n",
       "<style scoped>\n",
       "    .dataframe tbody tr th:only-of-type {\n",
       "        vertical-align: middle;\n",
       "    }\n",
       "\n",
       "    .dataframe tbody tr th {\n",
       "        vertical-align: top;\n",
       "    }\n",
       "\n",
       "    .dataframe thead th {\n",
       "        text-align: right;\n",
       "    }\n",
       "</style>\n",
       "<table border=\"1\" class=\"dataframe\">\n",
       "  <thead>\n",
       "    <tr style=\"text-align: right;\">\n",
       "      <th></th>\n",
       "      <th>top1</th>\n",
       "      <th>top2</th>\n",
       "      <th>top3</th>\n",
       "      <th>top4</th>\n",
       "      <th>top5</th>\n",
       "      <th>top6</th>\n",
       "      <th>top7</th>\n",
       "      <th>top8</th>\n",
       "      <th>top9</th>\n",
       "      <th>top10</th>\n",
       "    </tr>\n",
       "  </thead>\n",
       "  <tbody>\n",
       "    <tr>\n",
       "      <th>italian</th>\n",
       "      <td>salt</td>\n",
       "      <td>olive oil</td>\n",
       "      <td>garlic cloves</td>\n",
       "      <td>grated parmesan cheese</td>\n",
       "      <td>garlic</td>\n",
       "      <td>ground black pepper</td>\n",
       "      <td>extra-virgin olive oil</td>\n",
       "      <td>onions</td>\n",
       "      <td>water</td>\n",
       "      <td>butter</td>\n",
       "    </tr>\n",
       "    <tr>\n",
       "      <th>greek</th>\n",
       "      <td>salt</td>\n",
       "      <td>olive oil</td>\n",
       "      <td>dried oregano</td>\n",
       "      <td>feta cheese crumbles</td>\n",
       "      <td>garlic cloves</td>\n",
       "      <td>fresh lemon juice</td>\n",
       "      <td>garlic</td>\n",
       "      <td>ground black pepper</td>\n",
       "      <td>extra-virgin olive oil</td>\n",
       "      <td>pepper</td>\n",
       "    </tr>\n",
       "    <tr>\n",
       "      <th>southern_us</th>\n",
       "      <td>salt</td>\n",
       "      <td>butter</td>\n",
       "      <td>all-purpose flour</td>\n",
       "      <td>sugar</td>\n",
       "      <td>large eggs</td>\n",
       "      <td>baking powder</td>\n",
       "      <td>water</td>\n",
       "      <td>unsalted butter</td>\n",
       "      <td>milk</td>\n",
       "      <td>buttermilk</td>\n",
       "    </tr>\n",
       "    <tr>\n",
       "      <th>french</th>\n",
       "      <td>salt</td>\n",
       "      <td>sugar</td>\n",
       "      <td>all-purpose flour</td>\n",
       "      <td>unsalted butter</td>\n",
       "      <td>butter</td>\n",
       "      <td>olive oil</td>\n",
       "      <td>large eggs</td>\n",
       "      <td>water</td>\n",
       "      <td>garlic cloves</td>\n",
       "      <td>ground black pepper</td>\n",
       "    </tr>\n",
       "    <tr>\n",
       "      <th>mexican</th>\n",
       "      <td>salt</td>\n",
       "      <td>onions</td>\n",
       "      <td>garlic</td>\n",
       "      <td>ground cumin</td>\n",
       "      <td>olive oil</td>\n",
       "      <td>chili powder</td>\n",
       "      <td>jalapeno chilies</td>\n",
       "      <td>sour cream</td>\n",
       "      <td>avocado</td>\n",
       "      <td>corn tortillas</td>\n",
       "    </tr>\n",
       "    <tr>\n",
       "      <th>moroccan</th>\n",
       "      <td>olive oil</td>\n",
       "      <td>salt</td>\n",
       "      <td>ground cumin</td>\n",
       "      <td>onions</td>\n",
       "      <td>ground cinnamon</td>\n",
       "      <td>garlic cloves</td>\n",
       "      <td>ground ginger</td>\n",
       "      <td>water</td>\n",
       "      <td>carrots</td>\n",
       "      <td>paprika</td>\n",
       "    </tr>\n",
       "    <tr>\n",
       "      <th>russian</th>\n",
       "      <td>salt</td>\n",
       "      <td>sugar</td>\n",
       "      <td>onions</td>\n",
       "      <td>all-purpose flour</td>\n",
       "      <td>sour cream</td>\n",
       "      <td>eggs</td>\n",
       "      <td>water</td>\n",
       "      <td>butter</td>\n",
       "      <td>unsalted butter</td>\n",
       "      <td>large eggs</td>\n",
       "    </tr>\n",
       "    <tr>\n",
       "      <th>indian</th>\n",
       "      <td>salt</td>\n",
       "      <td>onions</td>\n",
       "      <td>garam masala</td>\n",
       "      <td>water</td>\n",
       "      <td>ground turmeric</td>\n",
       "      <td>garlic</td>\n",
       "      <td>ground cumin</td>\n",
       "      <td>cumin seed</td>\n",
       "      <td>vegetable oil</td>\n",
       "      <td>oil</td>\n",
       "    </tr>\n",
       "    <tr>\n",
       "      <th>japanese</th>\n",
       "      <td>soy sauce</td>\n",
       "      <td>salt</td>\n",
       "      <td>sugar</td>\n",
       "      <td>mirin</td>\n",
       "      <td>water</td>\n",
       "      <td>sake</td>\n",
       "      <td>rice vinegar</td>\n",
       "      <td>vegetable oil</td>\n",
       "      <td>scallions</td>\n",
       "      <td>sesame oil</td>\n",
       "    </tr>\n",
       "    <tr>\n",
       "      <th>vietnamese</th>\n",
       "      <td>fish sauce</td>\n",
       "      <td>sugar</td>\n",
       "      <td>salt</td>\n",
       "      <td>garlic</td>\n",
       "      <td>water</td>\n",
       "      <td>carrots</td>\n",
       "      <td>soy sauce</td>\n",
       "      <td>garlic cloves</td>\n",
       "      <td>vegetable oil</td>\n",
       "      <td>shallots</td>\n",
       "    </tr>\n",
       "    <tr>\n",
       "      <th>spanish</th>\n",
       "      <td>salt</td>\n",
       "      <td>olive oil</td>\n",
       "      <td>garlic cloves</td>\n",
       "      <td>extra-virgin olive oil</td>\n",
       "      <td>onions</td>\n",
       "      <td>water</td>\n",
       "      <td>tomatoes</td>\n",
       "      <td>ground black pepper</td>\n",
       "      <td>red bell pepper</td>\n",
       "      <td>pepper</td>\n",
       "    </tr>\n",
       "    <tr>\n",
       "      <th>thai</th>\n",
       "      <td>fish sauce</td>\n",
       "      <td>garlic</td>\n",
       "      <td>salt</td>\n",
       "      <td>coconut milk</td>\n",
       "      <td>sugar</td>\n",
       "      <td>vegetable oil</td>\n",
       "      <td>water</td>\n",
       "      <td>soy sauce</td>\n",
       "      <td>garlic cloves</td>\n",
       "      <td>lime</td>\n",
       "    </tr>\n",
       "    <tr>\n",
       "      <th>british</th>\n",
       "      <td>salt</td>\n",
       "      <td>all-purpose flour</td>\n",
       "      <td>butter</td>\n",
       "      <td>milk</td>\n",
       "      <td>eggs</td>\n",
       "      <td>sugar</td>\n",
       "      <td>unsalted butter</td>\n",
       "      <td>onions</td>\n",
       "      <td>baking powder</td>\n",
       "      <td>water</td>\n",
       "    </tr>\n",
       "    <tr>\n",
       "      <th>cajun_creole</th>\n",
       "      <td>salt</td>\n",
       "      <td>onions</td>\n",
       "      <td>garlic</td>\n",
       "      <td>green bell pepper</td>\n",
       "      <td>butter</td>\n",
       "      <td>olive oil</td>\n",
       "      <td>cayenne pepper</td>\n",
       "      <td>cajun seasoning</td>\n",
       "      <td>water</td>\n",
       "      <td>garlic cloves</td>\n",
       "    </tr>\n",
       "    <tr>\n",
       "      <th>brazilian</th>\n",
       "      <td>salt</td>\n",
       "      <td>onions</td>\n",
       "      <td>olive oil</td>\n",
       "      <td>lime</td>\n",
       "      <td>water</td>\n",
       "      <td>garlic cloves</td>\n",
       "      <td>garlic</td>\n",
       "      <td>cachaca</td>\n",
       "      <td>tomatoes</td>\n",
       "      <td>sugar</td>\n",
       "    </tr>\n",
       "    <tr>\n",
       "      <th>korean</th>\n",
       "      <td>soy sauce</td>\n",
       "      <td>sesame oil</td>\n",
       "      <td>garlic</td>\n",
       "      <td>green onions</td>\n",
       "      <td>sugar</td>\n",
       "      <td>salt</td>\n",
       "      <td>water</td>\n",
       "      <td>sesame seeds</td>\n",
       "      <td>onions</td>\n",
       "      <td>scallions</td>\n",
       "    </tr>\n",
       "    <tr>\n",
       "      <th>irish</th>\n",
       "      <td>salt</td>\n",
       "      <td>all-purpose flour</td>\n",
       "      <td>butter</td>\n",
       "      <td>onions</td>\n",
       "      <td>sugar</td>\n",
       "      <td>baking soda</td>\n",
       "      <td>potatoes</td>\n",
       "      <td>baking powder</td>\n",
       "      <td>milk</td>\n",
       "      <td>carrots</td>\n",
       "    </tr>\n",
       "    <tr>\n",
       "      <th>jamaican</th>\n",
       "      <td>salt</td>\n",
       "      <td>onions</td>\n",
       "      <td>water</td>\n",
       "      <td>garlic</td>\n",
       "      <td>ground allspice</td>\n",
       "      <td>pepper</td>\n",
       "      <td>scallions</td>\n",
       "      <td>dried thyme</td>\n",
       "      <td>garlic cloves</td>\n",
       "      <td>black pepper</td>\n",
       "    </tr>\n",
       "    <tr>\n",
       "      <th>chinese</th>\n",
       "      <td>soy sauce</td>\n",
       "      <td>salt</td>\n",
       "      <td>corn starch</td>\n",
       "      <td>sesame oil</td>\n",
       "      <td>sugar</td>\n",
       "      <td>water</td>\n",
       "      <td>garlic</td>\n",
       "      <td>green onions</td>\n",
       "      <td>vegetable oil</td>\n",
       "      <td>scallions</td>\n",
       "    </tr>\n",
       "    <tr>\n",
       "      <th>filipino</th>\n",
       "      <td>salt</td>\n",
       "      <td>garlic</td>\n",
       "      <td>onions</td>\n",
       "      <td>water</td>\n",
       "      <td>soy sauce</td>\n",
       "      <td>pepper</td>\n",
       "      <td>oil</td>\n",
       "      <td>sugar</td>\n",
       "      <td>ground black pepper</td>\n",
       "      <td>carrots</td>\n",
       "    </tr>\n",
       "  </tbody>\n",
       "</table>\n",
       "</div>"
      ],
      "text/plain": [
       "                    top1               top2               top3  \\\n",
       "italian             salt          olive oil      garlic cloves   \n",
       "greek               salt          olive oil      dried oregano   \n",
       "southern_us         salt             butter  all-purpose flour   \n",
       "french              salt              sugar  all-purpose flour   \n",
       "mexican             salt             onions             garlic   \n",
       "moroccan       olive oil               salt       ground cumin   \n",
       "russian             salt              sugar             onions   \n",
       "indian              salt             onions       garam masala   \n",
       "japanese       soy sauce               salt              sugar   \n",
       "vietnamese    fish sauce              sugar               salt   \n",
       "spanish             salt          olive oil      garlic cloves   \n",
       "thai          fish sauce             garlic               salt   \n",
       "british             salt  all-purpose flour             butter   \n",
       "cajun_creole        salt             onions             garlic   \n",
       "brazilian           salt             onions          olive oil   \n",
       "korean         soy sauce         sesame oil             garlic   \n",
       "irish               salt  all-purpose flour             butter   \n",
       "jamaican            salt             onions              water   \n",
       "chinese        soy sauce               salt        corn starch   \n",
       "filipino            salt             garlic             onions   \n",
       "\n",
       "                                top4             top5                 top6  \\\n",
       "italian       grated parmesan cheese           garlic  ground black pepper   \n",
       "greek           feta cheese crumbles    garlic cloves    fresh lemon juice   \n",
       "southern_us                    sugar       large eggs        baking powder   \n",
       "french               unsalted butter           butter            olive oil   \n",
       "mexican                 ground cumin        olive oil         chili powder   \n",
       "moroccan                      onions  ground cinnamon        garlic cloves   \n",
       "russian            all-purpose flour       sour cream                 eggs   \n",
       "indian                         water  ground turmeric               garlic   \n",
       "japanese                       mirin            water                 sake   \n",
       "vietnamese                    garlic            water              carrots   \n",
       "spanish       extra-virgin olive oil           onions                water   \n",
       "thai                    coconut milk            sugar        vegetable oil   \n",
       "british                         milk             eggs                sugar   \n",
       "cajun_creole       green bell pepper           butter            olive oil   \n",
       "brazilian                       lime            water        garlic cloves   \n",
       "korean                  green onions            sugar                 salt   \n",
       "irish                         onions            sugar          baking soda   \n",
       "jamaican                      garlic  ground allspice               pepper   \n",
       "chinese                   sesame oil            sugar                water   \n",
       "filipino                       water        soy sauce               pepper   \n",
       "\n",
       "                                top7                 top8  \\\n",
       "italian       extra-virgin olive oil               onions   \n",
       "greek                         garlic  ground black pepper   \n",
       "southern_us                    water      unsalted butter   \n",
       "french                    large eggs                water   \n",
       "mexican             jalapeno chilies           sour cream   \n",
       "moroccan               ground ginger                water   \n",
       "russian                        water               butter   \n",
       "indian                  ground cumin           cumin seed   \n",
       "japanese                rice vinegar        vegetable oil   \n",
       "vietnamese                 soy sauce        garlic cloves   \n",
       "spanish                     tomatoes  ground black pepper   \n",
       "thai                           water            soy sauce   \n",
       "british              unsalted butter               onions   \n",
       "cajun_creole          cayenne pepper      cajun seasoning   \n",
       "brazilian                     garlic              cachaca   \n",
       "korean                         water         sesame seeds   \n",
       "irish                       potatoes        baking powder   \n",
       "jamaican                   scallions          dried thyme   \n",
       "chinese                       garlic         green onions   \n",
       "filipino                         oil                sugar   \n",
       "\n",
       "                                top9                top10  \n",
       "italian                        water               butter  \n",
       "greek         extra-virgin olive oil               pepper  \n",
       "southern_us                     milk           buttermilk  \n",
       "french                 garlic cloves  ground black pepper  \n",
       "mexican                      avocado       corn tortillas  \n",
       "moroccan                     carrots              paprika  \n",
       "russian              unsalted butter           large eggs  \n",
       "indian                 vegetable oil                  oil  \n",
       "japanese                   scallions           sesame oil  \n",
       "vietnamese             vegetable oil             shallots  \n",
       "spanish              red bell pepper               pepper  \n",
       "thai                   garlic cloves                 lime  \n",
       "british                baking powder                water  \n",
       "cajun_creole                   water        garlic cloves  \n",
       "brazilian                   tomatoes                sugar  \n",
       "korean                        onions            scallions  \n",
       "irish                           milk              carrots  \n",
       "jamaican               garlic cloves         black pepper  \n",
       "chinese                vegetable oil            scallions  \n",
       "filipino         ground black pepper              carrots  "
      ]
     },
     "execution_count": 62,
     "metadata": {},
     "output_type": "execute_result"
    }
   ],
   "source": [
    "Top_10 = pd.DataFrame([[items[0] for items in counters[cuisine].most_common(10)] for cuisine in counters],\n",
    "                     index = [cuisine for cuisine in counters],\n",
    "                     columns = ['top{}'.format(i) for i in range(1,11)])    #Converting info into Top 10 most common cuisines\n",
    "Top_10"
   ]
  },
  {
   "cell_type": "code",
   "execution_count": 63,
   "metadata": {},
   "outputs": [
    {
     "data": {
      "text/html": [
       "<div>\n",
       "<style scoped>\n",
       "    .dataframe tbody tr th:only-of-type {\n",
       "        vertical-align: middle;\n",
       "    }\n",
       "\n",
       "    .dataframe tbody tr th {\n",
       "        vertical-align: top;\n",
       "    }\n",
       "\n",
       "    .dataframe thead th {\n",
       "        text-align: right;\n",
       "    }\n",
       "</style>\n",
       "<table border=\"1\" class=\"dataframe\">\n",
       "  <thead>\n",
       "    <tr style=\"text-align: right;\">\n",
       "      <th></th>\n",
       "      <th>cuisine</th>\n",
       "      <th>id</th>\n",
       "      <th>ingredients</th>\n",
       "      <th>ingredient</th>\n",
       "    </tr>\n",
       "  </thead>\n",
       "  <tbody>\n",
       "    <tr>\n",
       "      <th>0</th>\n",
       "      <td>italian</td>\n",
       "      <td>0</td>\n",
       "      <td>[penne, shallots, rice vinegar, fresh basil, g...</td>\n",
       "      <td>penne;shallots;rice vinegar;fresh basil;ground...</td>\n",
       "    </tr>\n",
       "    <tr>\n",
       "      <th>1</th>\n",
       "      <td>greek</td>\n",
       "      <td>1</td>\n",
       "      <td>[sugar, chopped walnuts, filo dough, chopped a...</td>\n",
       "      <td>sugar;chopped walnuts;filo dough;chopped almon...</td>\n",
       "    </tr>\n",
       "    <tr>\n",
       "      <th>2</th>\n",
       "      <td>italian</td>\n",
       "      <td>2</td>\n",
       "      <td>[fresh rosemary, chopped fresh thyme, fresh or...</td>\n",
       "      <td>fresh rosemary;chopped fresh thyme;fresh orega...</td>\n",
       "    </tr>\n",
       "    <tr>\n",
       "      <th>3</th>\n",
       "      <td>southern_us</td>\n",
       "      <td>3</td>\n",
       "      <td>[sugar, hot sauce, ramps, vinegar, cream chees...</td>\n",
       "      <td>sugar;hot sauce;ramps;vinegar;cream cheese;gro...</td>\n",
       "    </tr>\n",
       "    <tr>\n",
       "      <th>4</th>\n",
       "      <td>french</td>\n",
       "      <td>4</td>\n",
       "      <td>[ground cinnamon, panettone, whipped cream, Am...</td>\n",
       "      <td>ground cinnamon;panettone;whipped cream;Amaren...</td>\n",
       "    </tr>\n",
       "  </tbody>\n",
       "</table>\n",
       "</div>"
      ],
      "text/plain": [
       "       cuisine  id                                        ingredients  \\\n",
       "0      italian   0  [penne, shallots, rice vinegar, fresh basil, g...   \n",
       "1        greek   1  [sugar, chopped walnuts, filo dough, chopped a...   \n",
       "2      italian   2  [fresh rosemary, chopped fresh thyme, fresh or...   \n",
       "3  southern_us   3  [sugar, hot sauce, ramps, vinegar, cream chees...   \n",
       "4       french   4  [ground cinnamon, panettone, whipped cream, Am...   \n",
       "\n",
       "                                          ingredient  \n",
       "0  penne;shallots;rice vinegar;fresh basil;ground...  \n",
       "1  sugar;chopped walnuts;filo dough;chopped almon...  \n",
       "2  fresh rosemary;chopped fresh thyme;fresh orega...  \n",
       "3  sugar;hot sauce;ramps;vinegar;cream cheese;gro...  \n",
       "4  ground cinnamon;panettone;whipped cream;Amaren...  "
      ]
     },
     "execution_count": 63,
     "metadata": {},
     "output_type": "execute_result"
    }
   ],
   "source": [
    "df_train['ingredient'] = df_train['ingredients'].map(\";\".join)\n",
    "df_train.head()                 #Mapping Ingredients"
   ]
  },
  {
   "cell_type": "code",
   "execution_count": 64,
   "metadata": {},
   "outputs": [
    {
     "data": {
      "text/plain": [
       "<matplotlib.axes._subplots.AxesSubplot at 0x1e9a3b7d320>"
      ]
     },
     "execution_count": 64,
     "metadata": {},
     "output_type": "execute_result"
    },
    {
     "data": {
      "image/png": "[encoded data removed]",
      "text/plain": [
       "<Figure size 432x288 with 1 Axes>"
      ]
     },
     "metadata": {},
     "output_type": "display_data"
    }
   ],
   "source": [
    "indices = df_train['ingredient'].str.contains('vinegar')\n",
    "df_train[indices]['cuisine'].value_counts().plot(kind='bar', title='Vinegar Amt /Cuisine')\n",
    "\n",
    "#Counting the amount of vinegar in each cuisine for example"
   ]
  },
  {
   "cell_type": "code",
   "execution_count": 65,
   "metadata": {},
   "outputs": [
    {
     "data": {
      "text/plain": [
       "0         True\n",
       "1        False\n",
       "2        False\n",
       "3         True\n",
       "4        False\n",
       "5        False\n",
       "6        False\n",
       "7        False\n",
       "8        False\n",
       "9        False\n",
       "10       False\n",
       "11       False\n",
       "12       False\n",
       "13       False\n",
       "14       False\n",
       "15       False\n",
       "16       False\n",
       "17       False\n",
       "18        True\n",
       "19       False\n",
       "20       False\n",
       "21       False\n",
       "22       False\n",
       "23       False\n",
       "24       False\n",
       "25       False\n",
       "26        True\n",
       "27       False\n",
       "28       False\n",
       "29       False\n",
       "         ...  \n",
       "29744    False\n",
       "29745    False\n",
       "29746    False\n",
       "29747    False\n",
       "29748     True\n",
       "29749    False\n",
       "29750    False\n",
       "29751     True\n",
       "29752     True\n",
       "29753    False\n",
       "29754    False\n",
       "29755    False\n",
       "29756    False\n",
       "29757     True\n",
       "29758    False\n",
       "29759    False\n",
       "29760     True\n",
       "29761    False\n",
       "29762     True\n",
       "29763    False\n",
       "29764    False\n",
       "29765    False\n",
       "29766    False\n",
       "29767    False\n",
       "29768    False\n",
       "29769    False\n",
       "29770    False\n",
       "29771    False\n",
       "29772    False\n",
       "29773    False\n",
       "Name: ingredient, Length: 29774, dtype: bool"
      ]
     },
     "execution_count": 65,
     "metadata": {},
     "output_type": "execute_result"
    }
   ],
   "source": [
    "df_train['ingredient'].str.contains('vinegar')   #Which on contains vinegar in True/False Relationship"
   ]
  },
  {
   "cell_type": "code",
   "execution_count": 66,
   "metadata": {},
   "outputs": [
    {
     "data": {
      "text/plain": [
       "array(['all-purpose flour', 'avocado', 'baking powder', 'baking soda',\n",
       "       'black pepper', 'butter', 'buttermilk', 'cachaca',\n",
       "       'cajun seasoning', 'carrots', 'cayenne pepper', 'chili powder',\n",
       "       'coconut milk', 'corn starch', 'corn tortillas', 'cumin seed',\n",
       "       'dried oregano', 'dried thyme', 'eggs', 'extra-virgin olive oil',\n",
       "       'feta cheese crumbles', 'fish sauce', 'fresh lemon juice',\n",
       "       'garam masala', 'garlic', 'garlic cloves',\n",
       "       'grated parmesan cheese', 'green bell pepper', 'green onions',\n",
       "       'ground allspice', 'ground black pepper', 'ground cinnamon',\n",
       "       'ground cumin', 'ground ginger', 'ground turmeric',\n",
       "       'jalapeno chilies', 'large eggs', 'lime', 'milk', 'mirin', 'oil',\n",
       "       'olive oil', 'onions', 'paprika', 'pepper', 'potatoes',\n",
       "       'red bell pepper', 'rice vinegar', 'sake', 'salt', 'scallions',\n",
       "       'sesame oil', 'sesame seeds', 'shallots', 'sour cream',\n",
       "       'soy sauce', 'sugar', 'tomatoes', 'unsalted butter',\n",
       "       'vegetable oil', 'water'], dtype=object)"
      ]
     },
     "execution_count": 66,
     "metadata": {},
     "output_type": "execute_result"
    }
   ],
   "source": [
    "unique_items = np.unique(Top_10.values.ravel())\n",
    "unique_items                                       #Noticing unqiue values in Top_10"
   ]
  },
  {
   "cell_type": "code",
   "execution_count": 71,
   "metadata": {},
   "outputs": [
    {
     "ename": "NameError",
     "evalue": "name 'unique' is not defined",
     "output_type": "error",
     "traceback": [
      "\u001b[1;31m---------------------------------------------------------------------------\u001b[0m",
      "\u001b[1;31mNameError\u001b[0m                                 Traceback (most recent call last)",
      "\u001b[1;32m<ipython-input-71-a3227ac668bb>\u001b[0m in \u001b[0;36m<module>\u001b[1;34m\u001b[0m\n\u001b[0;32m      1\u001b[0m \u001b[0mfig\u001b[0m\u001b[1;33m,\u001b[0m \u001b[0maxes\u001b[0m \u001b[1;33m=\u001b[0m \u001b[0mplt\u001b[0m\u001b[1;33m.\u001b[0m\u001b[0msubplots\u001b[0m\u001b[1;33m(\u001b[0m\u001b[1;36m8\u001b[0m\u001b[1;33m,\u001b[0m \u001b[1;36m8\u001b[0m\u001b[1;33m,\u001b[0m \u001b[0mfigsize\u001b[0m\u001b[1;33m=\u001b[0m\u001b[1;33m(\u001b[0m\u001b[1;36m20\u001b[0m\u001b[1;33m,\u001b[0m\u001b[1;36m20\u001b[0m\u001b[1;33m)\u001b[0m\u001b[1;33m)\u001b[0m\u001b[1;33m\u001b[0m\u001b[1;33m\u001b[0m\u001b[0m\n\u001b[1;32m----> 2\u001b[1;33m \u001b[1;32mfor\u001b[0m \u001b[0mingredient\u001b[0m\u001b[1;33m,\u001b[0m \u001b[0max_index\u001b[0m \u001b[1;32min\u001b[0m \u001b[0mzip\u001b[0m\u001b[1;33m(\u001b[0m\u001b[0munique\u001b[0m\u001b[1;33m,\u001b[0m \u001b[0mrange\u001b[0m\u001b[1;33m(\u001b[0m\u001b[1;36m64\u001b[0m\u001b[1;33m)\u001b[0m\u001b[1;33m)\u001b[0m\u001b[1;33m:\u001b[0m               \u001b[1;31m#Creating 8X8 grid of unique ingredients in the Top 10 list\u001b[0m\u001b[1;33m\u001b[0m\u001b[1;33m\u001b[0m\u001b[0m\n\u001b[0m\u001b[0;32m      3\u001b[0m     \u001b[0mindices\u001b[0m \u001b[1;33m=\u001b[0m \u001b[0mdf_train\u001b[0m\u001b[1;33m[\u001b[0m\u001b[1;34m'ingredient'\u001b[0m\u001b[1;33m]\u001b[0m\u001b[1;33m.\u001b[0m\u001b[0mstr\u001b[0m\u001b[1;33m.\u001b[0m\u001b[0mcontains\u001b[0m\u001b[1;33m(\u001b[0m\u001b[0mingredient\u001b[0m\u001b[1;33m)\u001b[0m     \u001b[1;31m# Displaying ingredient occurance from each Country\u001b[0m\u001b[1;33m\u001b[0m\u001b[1;33m\u001b[0m\u001b[0m\n\u001b[0;32m      4\u001b[0m     \u001b[0mrelative_freq\u001b[0m \u001b[1;33m=\u001b[0m \u001b[1;33m(\u001b[0m\u001b[0mdf_train\u001b[0m\u001b[1;33m[\u001b[0m\u001b[0mindices\u001b[0m\u001b[1;33m]\u001b[0m\u001b[1;33m[\u001b[0m\u001b[1;34m'cuisine'\u001b[0m\u001b[1;33m]\u001b[0m\u001b[1;33m.\u001b[0m\u001b[0mvalue_counts\u001b[0m\u001b[1;33m(\u001b[0m\u001b[1;33m)\u001b[0m \u001b[1;33m/\u001b[0m \u001b[0mdf_train\u001b[0m\u001b[1;33m[\u001b[0m\u001b[1;34m'cuisine'\u001b[0m\u001b[1;33m]\u001b[0m\u001b[1;33m.\u001b[0m\u001b[0mvalue_counts\u001b[0m\u001b[1;33m(\u001b[0m\u001b[1;33m)\u001b[0m\u001b[1;33m)\u001b[0m\u001b[1;33m\u001b[0m\u001b[1;33m\u001b[0m\u001b[0m\n\u001b[0;32m      5\u001b[0m \u001b[1;33m\u001b[0m\u001b[0m\n",
      "\u001b[1;31mNameError\u001b[0m: name 'unique' is not defined"
     ]
    },
    {
     "data": {
      "image/png": "[encoded data removed]",
      "text/plain": [
       "<Figure size 1440x1440 with 64 Axes>"
      ]
     },
     "metadata": {},
     "output_type": "display_data"
    }
   ],
   "source": [
    "fig, axes = plt.subplots(8, 8, figsize=(20,20))\n",
    "for ingredient, ax_index in zip(unique, range(64)):               #Creating 8X8 grid of unique ingredients in the Top 10 list\n",
    "    indices = df_train['ingredient'].str.contains(ingredient)     # Displaying ingredient occurance from each Country\n",
    "    relative_freq = (df_train[indices]['cuisine'].value_counts() / df_train['cuisine'].value_counts())\n",
    "    \n",
    "    relative_freq.plot(kind='bar', ax=axes.ravel()[ax_index], fontsize=7, title=ingredient)"
   ]
  },
  {
   "cell_type": "code",
   "execution_count": null,
   "metadata": {},
   "outputs": [],
   "source": [
    "from sklearn.feature_extraction.text import CountVectorizer\n",
    "CV = CountVectorizer()\n",
    "X = CV.fit_transform(df_train['ingredient'].values)"
   ]
  },
  {
   "cell_type": "code",
   "execution_count": null,
   "metadata": {},
   "outputs": [],
   "source": [
    "print(list(CV.vocabulary_.keys())[:100])\n"
   ]
  },
  {
   "cell_type": "code",
   "execution_count": 69,
   "metadata": {},
   "outputs": [
    {
     "ename": "NameError",
     "evalue": "name 'X' is not defined",
     "output_type": "error",
     "traceback": [
      "\u001b[1;31m---------------------------------------------------------------------------\u001b[0m",
      "\u001b[1;31mNameError\u001b[0m                                 Traceback (most recent call last)",
      "\u001b[1;32m<ipython-input-69-bc5f1a0adac8>\u001b[0m in \u001b[0;36m<module>\u001b[1;34m\u001b[0m\n\u001b[1;32m----> 1\u001b[1;33m \u001b[0mX\u001b[0m\u001b[1;33m.\u001b[0m\u001b[0mshape\u001b[0m\u001b[1;33m\u001b[0m\u001b[1;33m\u001b[0m\u001b[0m\n\u001b[0m",
      "\u001b[1;31mNameError\u001b[0m: name 'X' is not defined"
     ]
    }
   ],
   "source": [
    "X.shape"
   ]
  },
  {
   "cell_type": "code",
   "execution_count": 70,
   "metadata": {},
   "outputs": [
    {
     "data": {
      "text/plain": [
       "array([ 9,  6,  9, 16,  5, 13, 16, 13, 16, 14, 15, 13,  7, 16, 11,  7, 13,\n",
       "        7, 13, 19, 17, 18, 14, 13,  7, 18,  6, 14,  7, 13,  1,  7, 18,  9,\n",
       "       14, 16,  9, 13, 16, 19, 16, 11, 14, 16, 13,  9, 16,  5,  7, 16,  5,\n",
       "        5,  7,  2,  5, 16, 19, 13,  9,  5,  9,  9, 17, 16,  9,  9, 18, 13,\n",
       "        2,  1,  7, 19, 11, 17,  0, 13,  7, 13,  9, 12, 16, 18, 13,  8,  6,\n",
       "        9,  2, 13,  7,  5,  9, 13, 16,  2, 16, 12,  9,  7,  5, 18,  5,  9,\n",
       "       13, 16, 13,  7, 14, 16,  9,  9, 13,  9, 13, 11, 16, 13,  0, 13,  2,\n",
       "        9,  1, 12, 13, 10, 13,  9,  9,  5,  2,  3, 13, 14,  0, 13,  9,  9,\n",
       "        4,  8, 13, 11, 13,  6,  9,  9, 12,  5, 17,  0,  9, 19, 16, 18, 16,\n",
       "        0, 13, 10, 16,  5,  9,  2, 13, 13,  7, 16,  9,  9,  9, 11, 19, 13,\n",
       "       14,  4, 13, 14, 16, 14,  6, 16, 13,  9,  9, 14,  2,  1,  9, 17, 14,\n",
       "       16,  9,  9, 18, 11,  5,  9, 13, 11, 19,  3,  9, 13])"
      ]
     },
     "execution_count": 70,
     "metadata": {},
     "output_type": "execute_result"
    }
   ],
   "source": [
    "from sklearn.preprocessing import LabelEncoder\n",
    "LE = LabelEncoder()\n",
    "Y = LE.fit_transform(df_train.cuisine)\n",
    "Y[:200]"
   ]
  },
  {
   "cell_type": "code",
   "execution_count": 51,
   "metadata": {},
   "outputs": [
    {
     "ename": "NameError",
     "evalue": "name 'LE' is not defined",
     "output_type": "error",
     "traceback": [
      "\u001b[1;31m---------------------------------------------------------------------------\u001b[0m",
      "\u001b[1;31mNameError\u001b[0m                                 Traceback (most recent call last)",
      "\u001b[1;32m<ipython-input-51-71b150b9fbc2>\u001b[0m in \u001b[0;36m<module>\u001b[1;34m\u001b[0m\n\u001b[1;32m----> 1\u001b[1;33m \u001b[0mLE\u001b[0m\u001b[1;33m.\u001b[0m\u001b[0mclasses_\u001b[0m\u001b[1;33m\u001b[0m\u001b[1;33m\u001b[0m\u001b[0m\n\u001b[0m",
      "\u001b[1;31mNameError\u001b[0m: name 'LE' is not defined"
     ]
    }
   ],
   "source": [
    "LE.classes_"
   ]
  },
  {
   "cell_type": "code",
   "execution_count": null,
   "metadata": {},
   "outputs": [],
   "source": [
    "from sklearn.model_selection import train_test_split    #Begin Training data with logistic regression using train_test_split\n",
    "from sklearn.linear_model import LogisticRegression"
   ]
  },
  {
   "cell_type": "code",
   "execution_count": null,
   "metadata": {},
   "outputs": [],
   "source": [
    "X_train, X_test, y_train, y_test = train_test_split(X, y, test_size=0.2)\n"
   ]
  },
  {
   "cell_type": "code",
   "execution_count": null,
   "metadata": {},
   "outputs": [],
   "source": [
    "logistic = LogisticRegression()\n",
    "logistic.fit(X_train, y_train)\n"
   ]
  },
  {
   "cell_type": "code",
   "execution_count": 52,
   "metadata": {},
   "outputs": [
    {
     "ename": "NameError",
     "evalue": "name 'logistic' is not defined",
     "output_type": "error",
     "traceback": [
      "\u001b[1;31m---------------------------------------------------------------------------\u001b[0m",
      "\u001b[1;31mNameError\u001b[0m                                 Traceback (most recent call last)",
      "\u001b[1;32m<ipython-input-52-d6088fae05de>\u001b[0m in \u001b[0;36m<module>\u001b[1;34m\u001b[0m\n\u001b[1;32m----> 1\u001b[1;33m \u001b[0mlogistic\u001b[0m\u001b[1;33m.\u001b[0m\u001b[0mscore\u001b[0m\u001b[1;33m(\u001b[0m\u001b[0mX_test\u001b[0m\u001b[1;33m,\u001b[0m \u001b[0my_test\u001b[0m\u001b[1;33m)\u001b[0m\u001b[1;33m\u001b[0m\u001b[1;33m\u001b[0m\u001b[0m\n\u001b[0m",
      "\u001b[1;31mNameError\u001b[0m: name 'logistic' is not defined"
     ]
    }
   ],
   "source": [
    "logistic.score(X_test, y_test)"
   ]
  },
  {
   "cell_type": "code",
   "execution_count": 53,
   "metadata": {},
   "outputs": [
    {
     "ename": "NameError",
     "evalue": "name 'y_test' is not defined",
     "output_type": "error",
     "traceback": [
      "\u001b[1;31m---------------------------------------------------------------------------\u001b[0m",
      "\u001b[1;31mNameError\u001b[0m                                 Traceback (most recent call last)",
      "\u001b[1;32m<ipython-input-53-c830f1353163>\u001b[0m in \u001b[0;36m<module>\u001b[1;34m\u001b[0m\n\u001b[0;32m      3\u001b[0m \u001b[0mplt\u001b[0m\u001b[1;33m.\u001b[0m\u001b[0mfigure\u001b[0m\u001b[1;33m(\u001b[0m\u001b[0mfigsize\u001b[0m\u001b[1;33m=\u001b[0m\u001b[1;33m(\u001b[0m\u001b[1;36m10\u001b[0m\u001b[1;33m,\u001b[0m \u001b[1;36m10\u001b[0m\u001b[1;33m)\u001b[0m\u001b[1;33m)\u001b[0m\u001b[1;33m\u001b[0m\u001b[1;33m\u001b[0m\u001b[0m\n\u001b[0;32m      4\u001b[0m \u001b[1;33m\u001b[0m\u001b[0m\n\u001b[1;32m----> 5\u001b[1;33m \u001b[0mCMatrix\u001b[0m \u001b[1;33m=\u001b[0m \u001b[0mconfusion_matrix\u001b[0m\u001b[1;33m(\u001b[0m\u001b[0my_test\u001b[0m\u001b[1;33m,\u001b[0m \u001b[0mlogistic\u001b[0m\u001b[1;33m.\u001b[0m\u001b[0mpredict\u001b[0m\u001b[1;33m(\u001b[0m\u001b[0mX_test\u001b[0m\u001b[1;33m)\u001b[0m\u001b[1;33m)\u001b[0m\u001b[1;33m\u001b[0m\u001b[1;33m\u001b[0m\u001b[0m\n\u001b[0m\u001b[0;32m      6\u001b[0m \u001b[0mCMatrix_normal\u001b[0m \u001b[1;33m=\u001b[0m \u001b[0mCMatrix\u001b[0m\u001b[1;33m.\u001b[0m\u001b[0mastype\u001b[0m\u001b[1;33m(\u001b[0m\u001b[1;34m'float'\u001b[0m\u001b[1;33m)\u001b[0m \u001b[1;33m/\u001b[0m \u001b[0mCMatrix\u001b[0m\u001b[1;33m.\u001b[0m\u001b[0msum\u001b[0m\u001b[1;33m(\u001b[0m\u001b[0maxis\u001b[0m\u001b[1;33m=\u001b[0m\u001b[1;36m1\u001b[0m\u001b[1;33m)\u001b[0m\u001b[1;33m[\u001b[0m\u001b[1;33m:\u001b[0m\u001b[1;33m,\u001b[0m \u001b[0mnp\u001b[0m\u001b[1;33m.\u001b[0m\u001b[0mnewaxis\u001b[0m\u001b[1;33m]\u001b[0m\u001b[1;33m\u001b[0m\u001b[1;33m\u001b[0m\u001b[0m\n\u001b[0;32m      7\u001b[0m \u001b[1;33m\u001b[0m\u001b[0m\n",
      "\u001b[1;31mNameError\u001b[0m: name 'y_test' is not defined"
     ]
    },
    {
     "data": {
      "text/plain": [
       "<Figure size 720x720 with 0 Axes>"
      ]
     },
     "metadata": {},
     "output_type": "display_data"
    }
   ],
   "source": [
    "from sklearn.metrics import confusion_matrix\n",
    "\n",
    "plt.figure(figsize=(10, 10))\n",
    "\n",
    "CMatrix = confusion_matrix(y_test, logistic.predict(X_test))\n",
    "CMatrix_normal = CMatrix.astype('float') / CMatrix.sum(axis=1)[:, np.newaxis]\n",
    "\n",
    "plt.imshow(CMatrix_normal, interpolation='nearest')#Transforms the logistic prediction above into a matrix of Float data\n",
    "plt.title(\"Confusion Matrix\")                   #type, showing the relationship between our predictions and the actual data\n",
    "plt.colorbar(shrink= 1)\n",
    "cuisines = df_train['cuisine'].value_counts().index\n",
    "ticks = np.arange(len(cuisines))\n",
    "plt.xticks(ticks, cuisines, rotation=90)\n",
    "plt.yticks(ticks, cuisines)\n",
    "plt.tight_layout()\n",
    "plt.ylabel('Origin Actual')\n",
    "plt.xlabel('Origin Predicted')"
   ]
  },
  {
   "cell_type": "code",
   "execution_count": null,
   "metadata": {},
   "outputs": [],
   "source": [
    "from sklearn.metrics import classification_report\n",
    "y_pred = logistic.predict(X_test)          #Displaying the predicted data from our matrix\n",
    "print(classification_report(y_test, y_pred, target_names=cuisines))"
   ]
  },
  {
   "cell_type": "code",
   "execution_count": null,
   "metadata": {},
   "outputs": [],
   "source": []
  }
 ],
 "metadata": {
  "kernelspec": {
   "display_name": "Python 3",
   "language": "python",
   "name": "python3"
  },
  "language_info": {
   "codemirror_mode": {
    "name": "ipython",
    "version": 3
   },
   "file_extension": ".py",
   "mimetype": "text/x-python",
   "name": "python",
   "nbconvert_exporter": "python",
   "pygments_lexer": "ipython3",
   "version": "3.7.1"
  }
 },
 "nbformat": 4,
 "nbformat_minor": 2
}
